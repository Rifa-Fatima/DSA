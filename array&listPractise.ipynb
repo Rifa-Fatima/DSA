{
 "cells": [
  {
   "cell_type": "markdown",
   "metadata": {},
   "source": [
    "## Two sum\n"
   ]
  },
  {
   "cell_type": "code",
   "execution_count": 5,
   "metadata": {},
   "outputs": [],
   "source": [
    "def twoSum(arr,n):\n",
    "    for i in range(len(arr)):\n",
    "        for j in range(i+1,len(arr)):\n",
    "            if arr[i] == arr[j]:\n",
    "                continue\n",
    "            elif arr[i] + arr[j] == n:\n",
    "                print(i,j)"
   ]
  },
  {
   "cell_type": "code",
   "execution_count": 7,
   "metadata": {},
   "outputs": [
    {
     "name": "stdout",
     "output_type": "stream",
     "text": [
      "0 6\n",
      "1 3\n",
      "1 4\n",
      "3 5\n",
      "4 5\n",
      "None\n"
     ]
    }
   ],
   "source": [
    "print(twoSum([1,2,3,4,4,2,5,3,6],6))"
   ]
  },
  {
   "cell_type": "markdown",
   "metadata": {},
   "source": [
    "## Optimised two sum solution"
   ]
  },
  {
   "cell_type": "code",
   "execution_count": 16,
   "metadata": {},
   "outputs": [],
   "source": [
    "def two_Sum(arr,target):\n",
    "    seen = {}\n",
    "    a=[]\n",
    "    for i,num in enumerate(arr):\n",
    "        complement = target - num\n",
    "        if complement in seen:\n",
    "            a.append([seen[complement],i])\n",
    "        seen[num] = i\n",
    "    return a"
   ]
  },
  {
   "cell_type": "code",
   "execution_count": 17,
   "metadata": {},
   "outputs": [
    {
     "name": "stdout",
     "output_type": "stream",
     "text": [
      "[[1, 3], [1, 4], [4, 5], [0, 6], [2, 7]]\n"
     ]
    }
   ],
   "source": [
    "print(two_Sum([1,2,3,4,4,2,5,3,6],6))"
   ]
  },
  {
   "cell_type": "code",
   "execution_count": 19,
   "metadata": {},
   "outputs": [],
   "source": [
    "def diagonal_sum(matrix):\n",
    "    # TODO\n",
    "    sum1=0\n",
    "    for i in range(len(matrix)):\n",
    "        for j in range(len(matrix[0])):\n",
    "            if i == j:\n",
    "                sum1 += matrix[i][j]\n",
    "    return sum1\n",
    "    "
   ]
  },
  {
   "cell_type": "code",
   "execution_count": 20,
   "metadata": {},
   "outputs": [
    {
     "data": {
      "text/plain": [
       "15"
      ]
     },
     "execution_count": 20,
     "metadata": {},
     "output_type": "execute_result"
    }
   ],
   "source": [
    "myList2D= [[1,2,3],[4,5,6],[7,8,9]] \n",
    " \n",
    "diagonal_sum(myList2D)"
   ]
  },
  {
   "cell_type": "code",
   "execution_count": null,
   "metadata": {},
   "outputs": [],
   "source": []
  }
 ],
 "metadata": {
  "kernelspec": {
   "display_name": "base",
   "language": "python",
   "name": "python3"
  },
  "language_info": {
   "codemirror_mode": {
    "name": "ipython",
    "version": 3
   },
   "file_extension": ".py",
   "mimetype": "text/x-python",
   "name": "python",
   "nbconvert_exporter": "python",
   "pygments_lexer": "ipython3",
   "version": "3.10.10"
  },
  "orig_nbformat": 4
 },
 "nbformat": 4,
 "nbformat_minor": 2
}

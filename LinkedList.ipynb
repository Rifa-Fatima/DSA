{
 "cells": [
  {
   "cell_type": "markdown",
   "metadata": {},
   "source": [
    "# Linked list\n",
    "### Creating a linked list\n",
    "- with one node\n",
    "    "
   ]
  },
  {
   "cell_type": "code",
   "execution_count": 2,
   "metadata": {},
   "outputs": [],
   "source": [
    "class Node:\n",
    "    def __init__(self,value):\n",
    "        self.value = value\n",
    "        self.next = None"
   ]
  },
  {
   "cell_type": "code",
   "execution_count": 2,
   "metadata": {},
   "outputs": [],
   "source": [
    "class LinkedList:\n",
    "    def __init__(self,value):\n",
    "        new_node = Node(value)\n",
    "        self.head = new_node\n",
    "        self.tail = new_node\n",
    "        self.length = 1"
   ]
  },
  {
   "cell_type": "code",
   "execution_count": 12,
   "metadata": {},
   "outputs": [
    {
     "name": "stdout",
     "output_type": "stream",
     "text": [
      "1\n",
      "10\n",
      "None\n"
     ]
    }
   ],
   "source": [
    "new_linked_list = LinkedList(10)\n",
    "print(new_linked_list.length)\n",
    "print(new_linked_list.head.value)\n",
    "print(new_linked_list.head.next)"
   ]
  },
  {
   "cell_type": "markdown",
   "metadata": {},
   "source": [
    "- with no element"
   ]
  },
  {
   "cell_type": "code",
   "execution_count": 16,
   "metadata": {},
   "outputs": [],
   "source": [
    "class LinkedList:\n",
    "    def __init__(self):\n",
    "        self.head = None   \n",
    "        self.tail = None\n",
    "        self.length = 0"
   ]
  },
  {
   "cell_type": "code",
   "execution_count": 15,
   "metadata": {},
   "outputs": [
    {
     "name": "stdout",
     "output_type": "stream",
     "text": [
      "0\n",
      "None\n",
      "None\n"
     ]
    }
   ],
   "source": [
    "new_linked_list = LinkedList()\n",
    "print(new_linked_list.length)\n",
    "print(new_linked_list.head)\n",
    "print(new_linked_list.tail)"
   ]
  },
  {
   "cell_type": "markdown",
   "metadata": {},
   "source": [
    "- Insert node in the empty linked list"
   ]
  },
  {
   "cell_type": "code",
   "execution_count": 21,
   "metadata": {},
   "outputs": [],
   "source": [
    "class LinkedList:\n",
    "    def __init__(self):\n",
    "        self.head = None\n",
    "        self.tail = None\n",
    "        self.length = 0\n",
    "\n",
    "    def append(self,value):\n",
    "        new_node = Node(value)\n",
    "        if self.head is None:\n",
    "            self.head = new_node\n",
    "            self.tail = new_node\n",
    "        else:\n",
    "            self.tail.next = new_node\n",
    "            self.tail = new_node\n",
    "        self.length +=1"
   ]
  },
  {
   "cell_type": "code",
   "execution_count": 24,
   "metadata": {},
   "outputs": [
    {
     "name": "stdout",
     "output_type": "stream",
     "text": [
      "1\n"
     ]
    }
   ],
   "source": [
    "new_linked_list = LinkedList()\n",
    "new_linked_list.append(10)\n",
    "print(new_linked_list.length)\n"
   ]
  },
  {
   "cell_type": "markdown",
   "metadata": {},
   "source": [
    "- Insert node at the end of the list."
   ]
  },
  {
   "cell_type": "code",
   "execution_count": 46,
   "metadata": {},
   "outputs": [],
   "source": [
    "class LinkedList:\n",
    "    def __init__(self,value):\n",
    "        next_node = Node(value)\n",
    "        self.head = next_node\n",
    "        self.tail = next_node\n",
    "        self.length = 1\n",
    "    def append(self,value):\n",
    "        new_node = Node(value)\n",
    "        if self.head is None:\n",
    "            self.head = new_node\n",
    "            self.tail = new_node\n",
    "        else:\n",
    "            self.tail.next = new_node\n",
    "            self.tail = new_node\n",
    "        self.length +=1"
   ]
  },
  {
   "cell_type": "code",
   "execution_count": 33,
   "metadata": {},
   "outputs": [
    {
     "name": "stdout",
     "output_type": "stream",
     "text": [
      "10\n",
      "2\n"
     ]
    }
   ],
   "source": [
    "new_linked_list = LinkedList(10)\n",
    "new_linked_list.append(10)\n",
    "print(new_linked_list.head.value)\n",
    "print(new_linked_list.length)\n"
   ]
  },
  {
   "cell_type": "markdown",
   "metadata": {},
   "source": [
    "- Create node.\n",
    "- Create a linked list with 0 element.\n",
    "- Print Linked list '__ str __'\n",
    "- Insert element at the end.(append)\n",
    "- Insert element at the beginning.(prepend)\n",
    "- Insert element.\n",
    "- traversing element in the linked list.\n",
    "- Seacrching of a element in linked list.\n",
    "- Get method - use to give value of indexed element.\n",
    "- Set method - use to set the value for a given index.\n",
    "- Pop first method to remove first element from the linked list\n",
    "- pop method to remove last element from the list\n",
    "- Remove method to remove element from the linked list\n",
    "- Delete_all to delete every element in the list\n",
    "- reverse the linked list\n",
    "- find the middle element in linked list"
   ]
  },
  {
   "cell_type": "code",
   "execution_count": 36,
   "metadata": {},
   "outputs": [
    {
     "name": "stdout",
     "output_type": "stream",
     "text": [
      "\n",
      "20 -> 20 -> 10\n"
     ]
    }
   ],
   "source": [
    "class Node: \n",
    "\n",
    "# To make nodes\n",
    "    def __init__(self,value):\n",
    "        self.value = value\n",
    "        self.next = None\n",
    "\n",
    "\n",
    "\n",
    "class LinkedList: \n",
    "\n",
    "# To initialize head,tail & length of the linked list.\n",
    "    def __init__(self):\n",
    "        self.head = None\n",
    "        self.tail = None\n",
    "        self.length = 0\n",
    "\n",
    "# To print the linked list\n",
    "    def __str__(self):\n",
    "        temp_node = self.head\n",
    "        result = ''\n",
    "        while temp_node is not None:\n",
    "            result+=str(temp_node.value)\n",
    "            if temp_node.next is not None:\n",
    "                result += ' -> '\n",
    "            temp_node = temp_node.next\n",
    "        return result\n",
    "\n",
    "# To insert element at the end.\n",
    "    def append(self,value):\n",
    "        new_node = Node(value)\n",
    "        if self.head is None:\n",
    "            self.head = new_node\n",
    "            self.tail = new_node\n",
    "        else:\n",
    "            self.tail.next = new_node\n",
    "            self.tail = new_node\n",
    "        self.length +=1\n",
    "\n",
    "# To insert element at the beginning.\n",
    "    def prepend(self,value):\n",
    "        new_node = Node(value)\n",
    "        if self.head is None:\n",
    "            self.head = new_node\n",
    "            self.tail = new_node\n",
    "        else:\n",
    "            new_node.next = self.head\n",
    "            self.head = new_node\n",
    "        self.length +=1\n",
    "\n",
    "# To insert element in the middle.\n",
    "    def insert(self,index,value):\n",
    "        new_node = Node(value)\n",
    "        if index < 0 or index > self.length:\n",
    "            return False\n",
    "        elif self.length == 0:\n",
    "            self.head = new_node\n",
    "            self.tail = new_node\n",
    "        elif index == 0:\n",
    "            new_node.next = self.head\n",
    "            self.head = new_node\n",
    "        else:\n",
    "            temp_node = self.head\n",
    "            for _ in range(index-1):\n",
    "                temp_node = temp_node.next\n",
    "            new_node.next = temp_node.next\n",
    "            temp_node.next = new_node\n",
    "        self.length += 1\n",
    "        return True\n",
    "    \n",
    "# Traversing a linked list\n",
    "    def traverse(self):\n",
    "        current = self.head\n",
    "        while current is not None:                    # or while current:\n",
    "            print(current.value)\n",
    "            current = current.next\n",
    "\n",
    "# To search element\n",
    "    def search(self,target):\n",
    "        current = self.head\n",
    "        index = 0\n",
    "        while current is not None:\n",
    "            if current.value == target:\n",
    "                return index\n",
    "            current = current.next\n",
    "            index +=1\n",
    "        return -1\n",
    "\n",
    "# Get method for returning value of the given index.\n",
    "    def get(self,index):\n",
    "        if index == -1:\n",
    "            return self.tail\n",
    "        if index < -1 or index >= self.length:\n",
    "            return None\n",
    "        current = self.head\n",
    "        for _ in range(index):\n",
    "            current = current.next\n",
    "        return current\n",
    "\n",
    "# Set method to set the value of a given index\n",
    "    def set_value(self,index,value):\n",
    "        temp = self.get(index)\n",
    "        if temp:\n",
    "            temp.value = value\n",
    "            return True\n",
    "        return False\n",
    "    \n",
    "# Pop first method to remove first element from the linked list\n",
    "    def pop_first(self):\n",
    "        if self.length == 0:\n",
    "            return None\n",
    "        popped_node = self.head\n",
    "        if self.length == 1:\n",
    "            self.head = None\n",
    "            self.tail = None\n",
    "        else:\n",
    "            self.head = self.head.next\n",
    "            popped_node.next = None\n",
    "        self.length -=1\n",
    "        return popped_node\n",
    "    \n",
    "# pop method to remove last element from the list\n",
    "    def pop(self):\n",
    "        if self.length == 0:\n",
    "            return None\n",
    "        popped_node = self.tail\n",
    "        if self.length == 1:\n",
    "            self.head = self.tail = None\n",
    "        else:\n",
    "            temp = self.head\n",
    "            while temp.next is not self.tail:\n",
    "                temp = temp.next\n",
    "            self.tail = temp\n",
    "            temp.next = None\n",
    "        self.length -=1\n",
    "        return popped_node\n",
    "    \n",
    "# Remove method to remove element from the linked list\n",
    "    def remove(self,index):\n",
    "        if index >= self.length or index < -1:\n",
    "            return None\n",
    "        if index == 0:\n",
    "            return self.pop_first()\n",
    "        if index == self.length-1 or index==-1:\n",
    "            return self.pop()\n",
    "        prev_node = self.get(index-1)\n",
    "        popped_node = prev_node.next\n",
    "        prev_node.next = popped_node.next\n",
    "        popped_node.next = None\n",
    "        self.length -= 1\n",
    "        return popped_node\n",
    "\n",
    "# Delete_all to delete every element in the list\n",
    "    def delete_all(self):\n",
    "        self.head = None\n",
    "        self.tail = None\n",
    "        self.length = None\n",
    "\n",
    "# reverse the linked list\n",
    "\n",
    "def reverse(self):\n",
    "    prev_node = None\n",
    "    current_node = self.head\n",
    "    while current_node is not None:\n",
    "        next_node = current_node.next\n",
    "        current_node.next = prev_node\n",
    "        prev_node = current_node\n",
    "        current_node = next_node\n",
    "    temp = self.head\n",
    "    self.head = self.tail\n",
    "    self.tail = temp\n",
    "\n",
    "\n",
    "\n",
    "\n",
    "# find the middle element in linked list\n",
    "\n",
    "def middle_element(self):\n",
    "    slow = self.head\n",
    "    fast = self.head\n",
    "    while fast is not None and fast.next is not None:\n",
    "        slow = slow.next\n",
    "        fast = fast.next.next\n",
    "    return slow\n",
    "\n",
    "\n",
    "        \n",
    "    \n",
    "\n",
    "\n",
    "        \n",
    "\n",
    "new_linked_list = LinkedList()\n",
    "print(new_linked_list)\n",
    "#new_linked_list.insert(0,100)\n",
    "new_linked_list.insert(0,10)\n",
    "new_linked_list.prepend(20)\n",
    "new_linked_list.prepend(20)\n",
    "#print(new_linked_list)\n",
    "new_linked_list.append(50)\n",
    "#print(new_linked_list)\n",
    "#new_linked_list.traverse()\n",
    "#print(new_linked_list.search(100))\n",
    "#new_linked_list.set_value(0,0)\n",
    "#print(new_linked_list)\n",
    "#print(new_linked_list.pop_first())\n",
    "#print(new_linked_list.pop())\n",
    "new_linked_list.remove(3)\n",
    "print(new_linked_list)"
   ]
  },
  {
   "cell_type": "code",
   "execution_count": 1,
   "metadata": {},
   "outputs": [],
   "source": [
    "# To merge two linked list in sorted order\n",
    "# In this first we will make a dummy node and add nodes in ascending value\n",
    "class ListNode(object):\n",
    "    def __init__(self, val=0, next=None):\n",
    "        self.val = val\n",
    "        self.next = next\n",
    "class Solution(object):\n",
    "    def mergeTwoLists(self, l1, l2):\n",
    "        \"\"\"\n",
    "        :type list1: Optional[ListNode]\n",
    "        :type list2: Optional[ListNode]\n",
    "        :rtype: Optional[ListNode]\n",
    "        \"\"\"\n",
    "        prehead = ListNode(-1)\n",
    "        prev = prehead\n",
    "        while l1 and l2:\n",
    "            if l1.val <= l2.val:\n",
    "                prev.next = l1\n",
    "                l1 = l1.next\n",
    "            else:\n",
    "                prev.next = l2\n",
    "                l2 = l2.next\n",
    "            prev = prev.next\n",
    "        prev.next = l1 if l1 is not None else l2\n",
    "        return prehead.next\n",
    "        "
   ]
  },
  {
   "cell_type": "code",
   "execution_count": null,
   "metadata": {},
   "outputs": [],
   "source": [
    "# to check that the given list is palindrome or not\n",
    "class ListNode(object):\n",
    "    def __init__(self, val=0, next=None):\n",
    "        self.val = val\n",
    "        self.next = next\n",
    "\n",
    "class Solution(object):\n",
    "    def isPalindrome(self, head):\n",
    "        # TODO\n",
    "        # first find the middle element\n",
    "        slow = head \n",
    "        fast = head\n",
    "        while fast is not None and fast.next is not None:\n",
    "            slow = slow.next\n",
    "            fast = fast.next.next\n",
    "        \n",
    "        # then reverse the second half of the linked list\n",
    "        prev = None\n",
    "        while slow:\n",
    "            tmp = slow.next\n",
    "            slow.next = prev\n",
    "            prev = slow\n",
    "            slow = tmp\n",
    "            \n",
    "        # then move from both the ends and check if val equal or not\n",
    "        while prev:\n",
    "            if head.val != prev.val:\n",
    "                return False\n",
    "            head = head.next\n",
    "            prev = prev.next\n",
    "        return True"
   ]
  }
 ],
 "metadata": {
  "kernelspec": {
   "display_name": "base",
   "language": "python",
   "name": "python3"
  },
  "language_info": {
   "codemirror_mode": {
    "name": "ipython",
    "version": 3
   },
   "file_extension": ".py",
   "mimetype": "text/x-python",
   "name": "python",
   "nbconvert_exporter": "python",
   "pygments_lexer": "ipython3",
   "version": "3.10.10"
  },
  "orig_nbformat": 4
 },
 "nbformat": 4,
 "nbformat_minor": 2
}

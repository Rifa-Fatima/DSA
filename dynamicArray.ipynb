{
 "cells": [
  {
   "cell_type": "code",
   "execution_count": 1,
   "metadata": {},
   "outputs": [],
   "source": [
    "import ctypes\n",
    "\n",
    "class dynamicArray(object):\n",
    "\n",
    "    def __init__(self):\n",
    "        self.n = 0                              #initial count will be 0\n",
    "        self.capacity = 1                       #initial capacity of array will be 1\n",
    "        self.A = self.make_array(self.capacity) #function made to make a array will be made below\n",
    "\n",
    "    def __len__(self):                          #this function gives the number of count\n",
    "        return self.n                          \n",
    "    \n",
    "    def __getitem__(self,k):                    #this function returns the element at index k\n",
    "        if not 0<= k <self.n:\n",
    "            return IndexError('k is out of bound!')\n",
    "        return self.A[k]\n",
    "    \n",
    "    def append(self,ele):\n",
    "        if self.n == self.capacity:\n",
    "            self._resize(2*self.capacity)       #2x if capacity isn't enough and that is standard method\n",
    "        self.A[self.n] = ele\n",
    "        self.n +=1\n",
    " \n",
    "    def _resize(self,new_cap):\n",
    "        B = self.make_array(new_cap)           #Second of new capacity is declared\n",
    "        for k in range(self.n):                #Assigning each value of A[] to B[]\n",
    "            B[k] = self.A[k]\n",
    "        self.A = B                             #Converting array B into array A (simply rename B into A)\n",
    "        self.capacity = new_cap                #Changing the capacity value to new capacity\n",
    "\n",
    "    def make_array(self,new_cap):              #Function to build the array\n",
    "        return (new_cap * ctypes.py_object)()  #A function used by importing ctypes to make a array  "
   ]
  },
  {
   "cell_type": "code",
   "execution_count": 2,
   "metadata": {},
   "outputs": [],
   "source": [
    "arr = dynamicArray()"
   ]
  },
  {
   "cell_type": "code",
   "execution_count": 3,
   "metadata": {},
   "outputs": [],
   "source": [
    "arr.append(1)"
   ]
  },
  {
   "cell_type": "code",
   "execution_count": 4,
   "metadata": {},
   "outputs": [
    {
     "data": {
      "text/plain": [
       "1"
      ]
     },
     "execution_count": 4,
     "metadata": {},
     "output_type": "execute_result"
    }
   ],
   "source": [
    "len(arr)"
   ]
  },
  {
   "cell_type": "code",
   "execution_count": 5,
   "metadata": {},
   "outputs": [],
   "source": [
    "arr.append(2)"
   ]
  },
  {
   "cell_type": "code",
   "execution_count": 6,
   "metadata": {},
   "outputs": [
    {
     "data": {
      "text/plain": [
       "2"
      ]
     },
     "execution_count": 6,
     "metadata": {},
     "output_type": "execute_result"
    }
   ],
   "source": [
    "len(arr)"
   ]
  },
  {
   "cell_type": "code",
   "execution_count": 7,
   "metadata": {},
   "outputs": [
    {
     "data": {
      "text/plain": [
       "2"
      ]
     },
     "execution_count": 7,
     "metadata": {},
     "output_type": "execute_result"
    }
   ],
   "source": [
    "arr[1]"
   ]
  },
  {
   "cell_type": "code",
   "execution_count": 8,
   "metadata": {},
   "outputs": [
    {
     "data": {
      "text/plain": [
       "1"
      ]
     },
     "execution_count": 8,
     "metadata": {},
     "output_type": "execute_result"
    }
   ],
   "source": [
    "arr[0]"
   ]
  },
  {
   "cell_type": "code",
   "execution_count": null,
   "metadata": {},
   "outputs": [],
   "source": []
  }
 ],
 "metadata": {
  "kernelspec": {
   "display_name": "base",
   "language": "python",
   "name": "python3"
  },
  "language_info": {
   "codemirror_mode": {
    "name": "ipython",
    "version": 3
   },
   "file_extension": ".py",
   "mimetype": "text/x-python",
   "name": "python",
   "nbconvert_exporter": "python",
   "pygments_lexer": "ipython3",
   "version": "3.10.10"
  },
  "orig_nbformat": 4
 },
 "nbformat": 4,
 "nbformat_minor": 2
}

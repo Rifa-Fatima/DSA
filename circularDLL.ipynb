{
 "cells": [
  {
   "cell_type": "markdown",
   "metadata": {},
   "source": [
    "## Circular Doubly Linked List"
   ]
  },
  {
   "cell_type": "code",
   "execution_count": 12,
   "metadata": {},
   "outputs": [],
   "source": [
    "class Node:\n",
    "    def __init__(self,value):\n",
    "        self.value = value\n",
    "        self.next = None\n",
    "        self.prev = None\n",
    "\n",
    "class CircularDoublyLinkedList:\n",
    "    def __init__(self):\n",
    "        self.head = None\n",
    "        self.tail = None\n",
    "\n",
    "    def __iter__(self):\n",
    "        node = self.head\n",
    "        while node:\n",
    "            yield node\n",
    "            if node.next == self.head:\n",
    "                break\n",
    "            node = node.next\n",
    "            \n",
    "\n",
    "# To create CDLL\n",
    "    def createCDLL(self,value):\n",
    "        node = Node(value)\n",
    "        node.next = node\n",
    "        node.prev = node\n",
    "        self.head = node\n",
    "        self.tail = node\n",
    "        return node.value\n",
    "\n",
    "# To insert a node in CDLL\n",
    "    def insertCDLL(self,value,location):\n",
    "        if self.head is None:\n",
    "            return None\n",
    "        else:\n",
    "            node=Node(value)\n",
    "            if location == 0:\n",
    "                node.next = self.head\n",
    "                node.prev = self.tail\n",
    "                self.tail.next= node\n",
    "                self.head.prev = node\n",
    "                self.head = node\n",
    "            elif location == -1:\n",
    "                node.prev = self.tail\n",
    "                node.next = self.head\n",
    "                self.tail.next = node\n",
    "                self.head.prev = node \n",
    "                self.tail = node\n",
    "            else:\n",
    "                tempNode = self.head\n",
    "                for _ in range(location-1):\n",
    "                    tempNode = tempNode.next\n",
    "                node.next = tempNode.next\n",
    "                node.prev = tempNode\n",
    "                tempNode.next.prev = node\n",
    "                tempNode.next = node\n",
    "\n",
    "# To traverse in CDLL\n",
    "    def traversalCDLL(self):\n",
    "        if self.head is None:\n",
    "            return False\n",
    "        else:\n",
    "            node = self.head\n",
    "            while node:\n",
    "                print(node.value)\n",
    "                if node == self.tail:\n",
    "                    break\n",
    "                node = node.next\n",
    "\n",
    "# Reverse traversal in CDLL\n",
    "    def reverseTraversalCDLL(self):\n",
    "        if self.head is None:\n",
    "            return False\n",
    "        else:\n",
    "            node = self.tail\n",
    "            while node:\n",
    "                print(node.value)\n",
    "                if node == self.head:\n",
    "                    break\n",
    "                node = node.prev\n",
    "\n",
    "# To Search any element in CDLL\n",
    "    def searchCDLL(self,target):\n",
    "        if self.head is None:\n",
    "            return -1\n",
    "        else:\n",
    "            node = self.head\n",
    "            while node:\n",
    "                if node.value == target:\n",
    "                    return True\n",
    "                if node == self.tail:\n",
    "                    break\n",
    "                node = node.next\n",
    "            return -1\n",
    "# To delete a node in CDll\n",
    "    def deleteCDLL(self,location):\n",
    "        if self.head is None:\n",
    "            return None\n",
    "        else:\n",
    "            if location == 0:\n",
    "                if self.head == self.tail:\n",
    "                    self.head.next = None\n",
    "                    self.head.prev = None\n",
    "                    self.head = None\n",
    "                    self.tail = None\n",
    "                else:\n",
    "                    self.head = self.head.next\n",
    "                    self.tail.next = self.head\n",
    "                    self.head.prev = self.tail\n",
    "            elif location == -1:\n",
    "                if self.head == self.tail:\n",
    "                    self.head.next = None\n",
    "                    self.head.prev = None\n",
    "                    self.head = None\n",
    "                    self.tail = None\n",
    "                else:\n",
    "                    self.tail = self.tail.prev\n",
    "                    self.tail.next = self.head\n",
    "                    self.head.prev = self.tail\n",
    "            else:\n",
    "                tempNode = self.head\n",
    "                for _ in range(location-1):\n",
    "                    tempNode = tempNode.next\n",
    "                tempNode.next = tempNode.next.next\n",
    "                tempNode.next.prev = tempNode\n",
    "\n",
    "# Delete entire CDLL\n",
    "    def deleteEntireCDLL(self):\n",
    "        if self.head is None:\n",
    "            return None\n",
    "        else:\n",
    "            self.tail.next = None\n",
    "            tempNode = self.head\n",
    "            while tempNode:\n",
    "                tempNode.prev = None\n",
    "                tempNode = tempNode.next    \n",
    "            self.head = None\n",
    "            self.tail = None\n"
   ]
  },
  {
   "cell_type": "code",
   "execution_count": 13,
   "metadata": {},
   "outputs": [
    {
     "name": "stdout",
     "output_type": "stream",
     "text": [
      "True\n",
      "1\n",
      "2\n",
      "3\n",
      "4\n",
      "4\n",
      "3\n",
      "2\n",
      "1\n",
      "[1, 2, 4]\n"
     ]
    }
   ],
   "source": [
    "circularDLL = CircularDoublyLinkedList()\n",
    "circularDLL.createCDLL(3)\n",
    "circularDLL.insertCDLL(1,0)\n",
    "circularDLL.insertCDLL(2,1)\n",
    "circularDLL.insertCDLL(4,-1)\n",
    "print(circularDLL.searchCDLL(2))\n",
    "circularDLL.traversalCDLL()\n",
    "circularDLL.reverseTraversalCDLL()\n",
    "circularDLL.deleteCDLL(2)\n",
    "print([node.value for node in circularDLL])\n"
   ]
  },
  {
   "cell_type": "markdown",
   "metadata": {},
   "source": [
    "#### Questions related to linked list"
   ]
  },
  {
   "cell_type": "code",
   "execution_count": 14,
   "metadata": {},
   "outputs": [],
   "source": [
    "from random import randint\n",
    "class Node:\n",
    "    def __init__(self,value):\n",
    "        self.value = value\n",
    "        self.next = None\n",
    "        self.prev = None\n",
    "\n",
    "    def __str__(self):\n",
    "        return str(self.value)\n",
    "    \n",
    "class LinkedList:\n",
    "    def __init__(self):\n",
    "        self.head = None\n",
    "        self.tail = None\n",
    "\n",
    "    def __iter__(self):\n",
    "        node = self.head\n",
    "        while node:\n",
    "            yield node\n",
    "            node = node.next\n",
    "    \n",
    "    def __str__(self):\n",
    "        values = [str(x.value) for x in self]\n",
    "        return (' -> '.join(values))\n",
    "    \n",
    "    def __len__(self):\n",
    "        result = 0\n",
    "        current_node = self.head\n",
    "        while current_node:\n",
    "            result += 1\n",
    "            current_node = current_node.next\n",
    "        return result\n",
    "    \n",
    "    def add(self,value):\n",
    "        node = Node(value)\n",
    "        if self.head is None:\n",
    "            self.head = node \n",
    "            self.tail = node\n",
    "        else:\n",
    "            self.tail.next = node\n",
    "            self.tail = node\n",
    "        return self.tail\n",
    "\n",
    "    def generate(self,n,min,max):\n",
    "        self.head = None\n",
    "        self.tail = None\n",
    "        for _ in range(n):\n",
    "            self.add(randint(min,max))\n",
    "        return self\n",
    "\n",
    "# function to add same node in two list\n",
    "def addSame(llA,llB,value):\n",
    "    tempNode = Node(value)\n",
    "    llA.tail.next = tempNode\n",
    "    llA.tail = tempNode\n",
    "    llB.tail.next = tempNode\n",
    "    llB.tail = tempNode\n"
   ]
  },
  {
   "cell_type": "code",
   "execution_count": 15,
   "metadata": {},
   "outputs": [
    {
     "name": "stdout",
     "output_type": "stream",
     "text": [
      "13 -> 72 -> 67 -> 44 -> 71 -> 93 -> 70 -> 96 -> 60 -> 89\n"
     ]
    }
   ],
   "source": [
    "customLL = LinkedList()\n",
    "customLL.generate(10,10,99)\n",
    "print(customLL)"
   ]
  },
  {
   "cell_type": "markdown",
   "metadata": {},
   "source": [
    "Function to return the nth last element"
   ]
  },
  {
   "cell_type": "code",
   "execution_count": 16,
   "metadata": {},
   "outputs": [],
   "source": [
    "def nth_last(ll,n):\n",
    "    pointer1 = ll.head\n",
    "    pointer2 = ll.head\n",
    "\n",
    "    for _ in range(n):\n",
    "        if pointer2 is None:\n",
    "            return None\n",
    "        pointer2 = pointer2.next\n",
    "\n",
    "    while pointer2:\n",
    "        pointer1 = pointer1.next\n",
    "        pointer2 = pointer2.next\n",
    "    return pointer1.value"
   ]
  },
  {
   "cell_type": "code",
   "execution_count": 17,
   "metadata": {},
   "outputs": [
    {
     "data": {
      "text/plain": [
       "89"
      ]
     },
     "execution_count": 17,
     "metadata": {},
     "output_type": "execute_result"
    }
   ],
   "source": [
    "nth_last(customLL,1)"
   ]
  },
  {
   "cell_type": "markdown",
   "metadata": {},
   "source": [
    "Function to partition the linked list such that all the values less than x appears on one side and all value greater than or equal to appears on the right side"
   ]
  },
  {
   "cell_type": "code",
   "execution_count": 18,
   "metadata": {},
   "outputs": [],
   "source": [
    "def partition(ll,x):\n",
    "    current_node = ll.head\n",
    "    ll.tail = ll.head\n",
    "    while current_node:\n",
    "        next_node = current_node.next\n",
    "        current_node.next = None\n",
    "        if current_node.value < x:\n",
    "            current_node.next = ll.head\n",
    "            ll.head = current_node\n",
    "        else:\n",
    "            ll.tail.next = current_node\n",
    "            ll.tail = current_node\n",
    "        current_node = next_node\n",
    "\n",
    "    if ll.tail.next is not None:\n",
    "        ll.tail.next = None\n",
    "    "
   ]
  },
  {
   "cell_type": "code",
   "execution_count": 19,
   "metadata": {},
   "outputs": [
    {
     "name": "stdout",
     "output_type": "stream",
     "text": [
      "None\n",
      "60 -> 70 -> 71 -> 44 -> 67 -> 72 -> 13 -> 93 -> 96 -> 89\n"
     ]
    }
   ],
   "source": [
    "print(partition(customLL,73))\n",
    "print(customLL)"
   ]
  },
  {
   "cell_type": "code",
   "execution_count": 20,
   "metadata": {},
   "outputs": [],
   "source": [
    "def Partition(ll,value):\n",
    "    node = ll.head\n",
    "    new_ll = LinkedList()\n",
    "    while node is not None:\n",
    "        if new_ll.head == None:\n",
    "            new_ll.add(node.value) \n",
    "        else:\n",
    "            if node.value < value:\n",
    "                new_node = Node(node.value)\n",
    "                new_node.next = new_ll.head\n",
    "                new_ll.head = new_node\n",
    "                new_ll.length += 1\n",
    "            else:\n",
    "                new_ll.add(node.value)\n",
    "        node = node.next\n",
    "    return new_ll"
   ]
  },
  {
   "cell_type": "markdown",
   "metadata": {},
   "source": [
    "#### sum lists\n",
    "- In this we have to add two linked list such that\n",
    "- list1 = 7->1->6 and list2 = 5->9->2\n",
    "- so 617 + 295 = 912\n",
    "- output should be list3 = 2->1->9"
   ]
  },
  {
   "cell_type": "code",
   "execution_count": 21,
   "metadata": {},
   "outputs": [],
   "source": [
    "from sampleLL import LinkedList \n",
    "def sumlists(llA,llB):\n",
    "    n1 = llA.head\n",
    "    n2 = llB.head\n",
    "    carry = 0\n",
    "    ll = LinkedList()\n",
    "    while  n1 or n2:\n",
    "        result = carry\n",
    "        if n1:\n",
    "            result += n1.value\n",
    "            n1 = n1.next\n",
    "        if n2:\n",
    "            result += n2.value\n",
    "            n2 = n2.next\n",
    "        ll.add(int(result)%10)\n",
    "        carry = result/10\n",
    "    return ll\n",
    "\n"
   ]
  },
  {
   "cell_type": "code",
   "execution_count": 22,
   "metadata": {},
   "outputs": [
    {
     "name": "stdout",
     "output_type": "stream",
     "text": [
      "7 -> 1 -> 6\n",
      "5 -> 9 -> 2\n",
      "2 -> 1 -> 9\n"
     ]
    }
   ],
   "source": [
    "llA = LinkedList()\n",
    "llA.add(7)\n",
    "llA.add(1)\n",
    "llA.add(6)\n",
    "llB = LinkedList()\n",
    "llB.add(5)\n",
    "llB.add(9)\n",
    "llB.add(2)\n",
    "print(llA)\n",
    "print(llB)\n",
    "print(sumlists(llA,llB))"
   ]
  },
  {
   "cell_type": "markdown",
   "metadata": {},
   "source": [
    "Function to find intersection btw two linked list"
   ]
  },
  {
   "cell_type": "code",
   "execution_count": 28,
   "metadata": {},
   "outputs": [],
   "source": [
    "def intersection(llA,llB):\n",
    "    if llA.tail != llB.tail:\n",
    "        return False\n",
    "    lenA = len(llA)\n",
    "    lenB = len(llB)\n",
    "\n",
    "    shorter = llA if lenA < lenB else llB\n",
    "    longer = llB if lenA < lenB else llA\n",
    "    diff = len(longer)- len(shorter)\n",
    "    shorter_node = shorter.head\n",
    "    longer_node = longer.head\n",
    "\n",
    "    for _ in range (diff):\n",
    "        longer_node = longer_node.next\n",
    "\n",
    "    while shorter_node is not longer_node:\n",
    "        shorter_node = shorter_node.next\n",
    "        longer_node = longer_node.next\n",
    "\n",
    "    return longer_node.value"
   ]
  },
  {
   "cell_type": "code",
   "execution_count": 34,
   "metadata": {},
   "outputs": [
    {
     "name": "stdout",
     "output_type": "stream",
     "text": [
      "1 -> 2 -> 3 -> 4 -> 30 -> 20\n",
      "8 -> 7 -> 6 -> 30 -> 20\n"
     ]
    },
    {
     "data": {
      "text/plain": [
       "30"
      ]
     },
     "execution_count": 34,
     "metadata": {},
     "output_type": "execute_result"
    }
   ],
   "source": [
    "LLA = LinkedList()\n",
    "LLB = LinkedList()\n",
    "LLA.add(1)\n",
    "LLA.add(2)\n",
    "LLA.add(3)\n",
    "LLA.add(4)\n",
    "LLB.add(8)\n",
    "LLB.add(7)\n",
    "LLB.add(6)\n",
    "\n",
    "addSame(LLA,LLB,30)\n",
    "addSame(LLA,LLB,20)\n",
    "print(LLA)\n",
    "print(LLB)\n",
    "intersection(LLA,LLB)"
   ]
  },
  {
   "cell_type": "code",
   "execution_count": null,
   "metadata": {},
   "outputs": [],
   "source": []
  }
 ],
 "metadata": {
  "kernelspec": {
   "display_name": "base",
   "language": "python",
   "name": "python3"
  },
  "language_info": {
   "codemirror_mode": {
    "name": "ipython",
    "version": 3
   },
   "file_extension": ".py",
   "mimetype": "text/x-python",
   "name": "python",
   "nbconvert_exporter": "python",
   "pygments_lexer": "ipython3",
   "version": "3.10.10"
  },
  "orig_nbformat": 4
 },
 "nbformat": 4,
 "nbformat_minor": 2
}

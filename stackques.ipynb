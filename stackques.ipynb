{
 "cells": [
  {
   "cell_type": "markdown",
   "metadata": {},
   "source": [
    "- Three in one: use a python list to make three stack"
   ]
  },
  {
   "cell_type": "code",
   "execution_count": 3,
   "metadata": {},
   "outputs": [
    {
     "name": "stdout",
     "output_type": "stream",
     "text": [
      "True\n",
      "False\n",
      "False\n",
      "2\n"
     ]
    }
   ],
   "source": [
    "class MultiStack:\n",
    "    def __init__(self,stacksize):\n",
    "        self.numberstacks = 3\n",
    "        self.custList = [0] * (self.numberstacks * stacksize)\n",
    "        self.sizes = [0] * self.numberstacks\n",
    "        self.stacksize = stacksize\n",
    "\n",
    "    def isFull(self,stacknum):\n",
    "        if self.sizes[stacknum] == self.stacksize:\n",
    "            return True\n",
    "        else:\n",
    "            return False\n",
    "        \n",
    "    def isEmpty(self,stacknum):\n",
    "        if self.sizes[stacknum] == 0:\n",
    "            return True\n",
    "        else:\n",
    "            return False\n",
    "        \n",
    "    def indexOfTop(self,stacknum):\n",
    "        offset = stacknum * self.stacksize\n",
    "        return offset + self.sizes[stacknum]-1\n",
    "    \n",
    "    def push (self,item, stacknum):\n",
    "        if self.isFull(stacknum):\n",
    "            return \"The stack is full.\"\n",
    "        else:\n",
    "            self.sizes[stacknum] += 1\n",
    "            self.custList[self.indexOfTop(stacknum)] = item        \n",
    "\n",
    "    def pop(self,stacknum):\n",
    "        if self.isEmpty(stacknum):\n",
    "            return \"The stack is empty\"\n",
    "        else:\n",
    "            value = self.custList[self.indexOfTop(stacknum)]\n",
    "            self.custList[self.indexOfTop(stacknum)] = 0\n",
    "            self.sizes[stacknum] -= 1\n",
    "            return value\n",
    "        \n",
    "    def peek(self,stacknum):\n",
    "        if self.isEmpty(stacknum):\n",
    "            return \"The stack is empty\"\n",
    "        else:\n",
    "            value = self.custList[self.indexOfTop(stacknum)]\n",
    "            return value\n",
    "        \n",
    "\n",
    "customStack = MultiStack(9)\n",
    "print(customStack.isEmpty(0))\n",
    "print(customStack.isFull(0))\n",
    "customStack.push(1,0)\n",
    "customStack.push(2,0)\n",
    "customStack.push(3,2)\n",
    "print(customStack.isEmpty(0))\n",
    "print(customStack.peek(0))\n"
   ]
  },
  {
   "cell_type": "markdown",
   "metadata": {},
   "source": [
    "- write a program to write push, pop and minimum methods for a stack. Its time complexity should be O(1)."
   ]
  },
  {
   "cell_type": "code",
   "execution_count": 6,
   "metadata": {},
   "outputs": [
    {
     "name": "stdout",
     "output_type": "stream",
     "text": [
      "4\n",
      "2\n",
      "3\n",
      "2\n",
      "4\n",
      "<__main__.stack object at 0x000001C74F0C4880>\n"
     ]
    }
   ],
   "source": [
    "# it will be done using linked list\n",
    "class Node():\n",
    "\n",
    "    def __init__(self, value=None, next=None):\n",
    "        self.value = value\n",
    "        self.next = next\n",
    "\n",
    "    def __str__(self):\n",
    "        string = str(self.value)\n",
    "        if self.next:\n",
    "            string += ',' + str(self.next)\n",
    "        return string\n",
    "    \n",
    "class stack():\n",
    "\n",
    "    def __init__(self):\n",
    "        self.top = None\n",
    "        self.minNode = None\n",
    "\n",
    "    def min(self):\n",
    "        if not self.minNode:\n",
    "            return None\n",
    "        else:\n",
    "            return self.minNode.value\n",
    "    \n",
    "    def push(self, item):\n",
    "        if self.minNode and (self.minNode.value < item):\n",
    "            self.minNode = Node(value = self.minNode.value, next = self.minNode)\n",
    "        else:\n",
    "            self.minNode = Node(value = item, next = self.minNode)\n",
    "        self.top = Node(value = item, next = self.top)\n",
    "\n",
    "    def pop(self):\n",
    "        if not self.top:\n",
    "            return None\n",
    "        self.minNode = self.minNode.next\n",
    "        item = self.top.value\n",
    "        self.top = self.top.next\n",
    "        return item\n",
    "    \n",
    "\n",
    "customStack = stack()\n",
    "customStack.push(4)\n",
    "print(customStack.min())\n",
    "customStack.push(2)\n",
    "print(customStack.min())\n",
    "customStack.push(3)\n",
    "print(customStack.pop())\n",
    "print(customStack.pop())\n",
    "print(customStack.min())\n"
   ]
  },
  {
   "cell_type": "code",
   "execution_count": null,
   "metadata": {},
   "outputs": [],
   "source": []
  }
 ],
 "metadata": {
  "kernelspec": {
   "display_name": "base",
   "language": "python",
   "name": "python3"
  },
  "language_info": {
   "codemirror_mode": {
    "name": "ipython",
    "version": 3
   },
   "file_extension": ".py",
   "mimetype": "text/x-python",
   "name": "python",
   "nbconvert_exporter": "python",
   "pygments_lexer": "ipython3",
   "version": "3.10.10"
  },
  "orig_nbformat": 4
 },
 "nbformat": 4,
 "nbformat_minor": 2
}

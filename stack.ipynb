{
 "cells": [
  {
   "cell_type": "markdown",
   "metadata": {},
   "source": [
    "# Stack using list"
   ]
  },
  {
   "cell_type": "markdown",
   "metadata": {},
   "source": [
    "- creating stack without size limit"
   ]
  },
  {
   "cell_type": "code",
   "execution_count": 14,
   "metadata": {},
   "outputs": [],
   "source": [
    "class stack:\n",
    "    def __init__(self):\n",
    "        self.list =[]\n",
    "\n",
    "    def __str__(self):\n",
    "        values = self.list.reverse()\n",
    "        values = [str(x) for x in self.list]\n",
    "        return '\\n'.join(values)\n",
    "    \n",
    "    def isEmpty(self):\n",
    "        if self.list == []:\n",
    "            return True\n",
    "        else:\n",
    "            return False\n",
    "    \n",
    "    def push(self,value):\n",
    "        self.list.append(value)\n",
    "        return self.list\n",
    "\n",
    "    def pop(self):\n",
    "        if self.isEmpty():\n",
    "            return \"The stack is empty\"\n",
    "        else:\n",
    "            return self.list.pop()\n",
    "        \n",
    "    def peek(self):\n",
    "        if self.isEmpty():\n",
    "            return \"The stack is empty\"\n",
    "        else:\n",
    "            return self.list[len(self.list)-1]\n",
    "        \n",
    "    def delete(self):\n",
    "        self.list = None\n"
   ]
  },
  {
   "cell_type": "code",
   "execution_count": 15,
   "metadata": {},
   "outputs": [
    {
     "name": "stdout",
     "output_type": "stream",
     "text": [
      "[1]\n",
      "[1, 2]\n",
      "[1, 2, 3]\n",
      "[1, 2, 3, 4]\n",
      "4\n",
      "4\n",
      "3\n",
      "2\n",
      "1\n"
     ]
    }
   ],
   "source": [
    "customStack = stack()\n",
    "customStack.isEmpty()\n",
    "print(customStack.push(1))\n",
    "print(customStack.push(2))\n",
    "print(customStack.push(3))\n",
    "print(customStack.push(4))\n",
    "print(customStack.peek())\n",
    "print(customStack.pop())\n",
    "print(customStack)\n",
    "\n",
    "\n"
   ]
  },
  {
   "cell_type": "markdown",
   "metadata": {},
   "source": [
    "- creating stack with size limit"
   ]
  },
  {
   "cell_type": "code",
   "execution_count": 8,
   "metadata": {},
   "outputs": [],
   "source": [
    "class Stack:\n",
    "    def __init__(self,maxSize):\n",
    "        self.maxSize = maxSize\n",
    "        self.list = []\n",
    "\n",
    "    def __str__(self):\n",
    "        values = self.list.reverse()\n",
    "        values = [str(x) for x in self.list]\n",
    "        return '\\n'.join(values)\n",
    "    \n",
    "    def isEmpty(self):\n",
    "        if self.list == []:\n",
    "            return True\n",
    "        else:\n",
    "            return False\n",
    "        \n",
    "    def isFull(self):\n",
    "        if len(self.list) == self.maxSize:\n",
    "            return True\n",
    "        else:\n",
    "            return False\n",
    "        \n",
    "    def push(self,value):\n",
    "        if self.isFull():\n",
    "            return \"The stack is full\"\n",
    "        else:\n",
    "            self.list.append(value)\n",
    "            return \"The element has been entered\"\n",
    "        \n",
    "    def pop(self):\n",
    "        if self.isEmpty():\n",
    "            return \"The stack is empty\"\n",
    "        else:\n",
    "            return self.list.pop()\n",
    "\n",
    "    def peek(self):\n",
    "        if self.isEmpty():\n",
    "            return \"The stack is empty\"\n",
    "        else:\n",
    "            return self.list[0]\n",
    "        \n",
    "    def delete(self):\n",
    "        self.list = None"
   ]
  },
  {
   "cell_type": "code",
   "execution_count": 9,
   "metadata": {},
   "outputs": [
    {
     "name": "stdout",
     "output_type": "stream",
     "text": [
      "4\n",
      "3\n",
      "2\n",
      "1\n"
     ]
    },
    {
     "data": {
      "text/plain": [
       "4"
      ]
     },
     "execution_count": 9,
     "metadata": {},
     "output_type": "execute_result"
    }
   ],
   "source": [
    "custom_stack = Stack(5)\n",
    "custom_stack.isEmpty()\n",
    "custom_stack.push(1)\n",
    "custom_stack.push(2)\n",
    "custom_stack.push(3)\n",
    "custom_stack.push(4)\n",
    "custom_stack.push(5)\n",
    "custom_stack.isFull()\n",
    "custom_stack.pop()\n",
    "print(custom_stack)\n",
    "custom_stack.peek()"
   ]
  },
  {
   "cell_type": "markdown",
   "metadata": {},
   "source": [
    "## Stack using Linked List"
   ]
  },
  {
   "cell_type": "code",
   "execution_count": 20,
   "metadata": {},
   "outputs": [],
   "source": [
    "class Node:\n",
    "    def __init__(self,value):\n",
    "        self.value = value\n",
    "        self.next = next\n",
    "\n",
    "\n",
    "class LinkedList:\n",
    "    def __init__(self):\n",
    "        self.head = None\n",
    "    \n",
    "    def __iter__(self):\n",
    "        current_node = self.head\n",
    "        while current_node:\n",
    "            yield current_node\n",
    "            current_node = current_node.next\n",
    "    \n",
    "\n",
    "class stack:\n",
    "    def __init__(self):\n",
    "        self.LinkedList = LinkedList()\n",
    "\n",
    "    def __str__(self):\n",
    "        values = [str(x.value) for x in self.LinkedList]\n",
    "        return '\\n'.join(values)\n",
    "\n",
    "    def isEmpty(self):\n",
    "        if self.LinkedList.head == None:\n",
    "            return True\n",
    "        else:\n",
    "            return False\n",
    "    \n",
    "    def push(self,value):\n",
    "        node = Node(value)\n",
    "        node.next = self.LinkedList.head\n",
    "        self.LinkedList.head = node\n",
    "        return \"The element is added in the stack\"\n",
    "\n",
    "    def pop(self):\n",
    "        if self.LinkedList == None:\n",
    "            return \"The stack is empty\"\n",
    "        else:\n",
    "            nodeValue = self.LinkedList.head.value\n",
    "            self.LinkedList.head = self.LinkedList.head.next\n",
    "            return nodeValue\n",
    "\n",
    "    def peek(self):\n",
    "        if self.LinkedList == None:\n",
    "            return \"The stack is empty\"\n",
    "        else:\n",
    "            nodeValue = self.LinkedList.head.value\n",
    "            return nodeValue\n",
    "\n",
    "\n",
    "    def delete(self):\n",
    "        self.LinkedList.head = None"
   ]
  },
  {
   "cell_type": "code",
   "execution_count": 21,
   "metadata": {},
   "outputs": [
    {
     "name": "stdout",
     "output_type": "stream",
     "text": [
      "2\n",
      "1\n"
     ]
    },
    {
     "data": {
      "text/plain": [
       "2"
      ]
     },
     "execution_count": 21,
     "metadata": {},
     "output_type": "execute_result"
    }
   ],
   "source": [
    "customstack = stack()\n",
    "customstack.isEmpty()\n",
    "customstack.push(1)\n",
    "customstack.push(2)\n",
    "customstack.push(3)\n",
    "customstack.pop()\n",
    "print(customstack)\n",
    "customstack.peek()\n"
   ]
  },
  {
   "cell_type": "code",
   "execution_count": null,
   "metadata": {},
   "outputs": [],
   "source": []
  }
 ],
 "metadata": {
  "kernelspec": {
   "display_name": "base",
   "language": "python",
   "name": "python3"
  },
  "language_info": {
   "codemirror_mode": {
    "name": "ipython",
    "version": 3
   },
   "file_extension": ".py",
   "mimetype": "text/x-python",
   "name": "python",
   "nbconvert_exporter": "python",
   "pygments_lexer": "ipython3",
   "version": "3.10.10"
  },
  "orig_nbformat": 4
 },
 "nbformat": 4,
 "nbformat_minor": 2
}

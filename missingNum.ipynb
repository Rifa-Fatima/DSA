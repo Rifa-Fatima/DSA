{
 "cells": [
  {
   "cell_type": "code",
   "execution_count": 16,
   "metadata": {},
   "outputs": [],
   "source": [
    "#First method\n",
    "def finder(arr1,arr2):\n",
    "    arr1.sort()\n",
    "    arr2.sort()\n",
    "    for num1,num2 in zip(arr1,arr2):\n",
    "        if num1 != num2:\n",
    "            return num1\n",
    "    return None\n",
    "\n"
   ]
  },
  {
   "cell_type": "code",
   "execution_count": 24,
   "metadata": {},
   "outputs": [
    {
     "name": "stdout",
     "output_type": "stream",
     "text": [
      "5\n"
     ]
    }
   ],
   "source": [
    "arr1 = [1,2,4,5,6,3,7]\n",
    "arr2 = [2,4,1,3,7,6,]\n",
    "print(finder(arr1,arr2))"
   ]
  },
  {
   "cell_type": "code",
   "execution_count": 2,
   "metadata": {},
   "outputs": [],
   "source": [
    "#second method\n",
    "import collections\n",
    "\n",
    "def finder2(arr1,arr2):\n",
    "\n",
    "    d=collections.defaultdict(int)     #This will not show key error as it will automatically assign key to a value if key is already not present\n",
    "    for num in arr2:\n",
    "        d[num]+=1\n",
    "    for num in arr1:\n",
    "        if d[num]==0:\n",
    "            return num\n",
    "        else:\n",
    "            d[num]-=1\n"
   ]
  },
  {
   "cell_type": "code",
   "execution_count": 3,
   "metadata": {},
   "outputs": [
    {
     "name": "stdout",
     "output_type": "stream",
     "text": [
      "5\n"
     ]
    }
   ],
   "source": [
    "arr1 = [1,2,4,5,6,3,7]\n",
    "arr2 = [2,4,1,3,7,6]\n",
    "print(finder2(arr1,arr2))"
   ]
  },
  {
   "cell_type": "code",
   "execution_count": 12,
   "metadata": {},
   "outputs": [],
   "source": [
    "#Effective method\n",
    "def finder3(arr1,arr2):\n",
    "    result = 0\n",
    "    for num in arr1+arr2:\n",
    "        result^=num                    #xor operation\n",
    "        \n",
    "    return result"
   ]
  },
  {
   "cell_type": "code",
   "execution_count": 13,
   "metadata": {},
   "outputs": [
    {
     "name": "stdout",
     "output_type": "stream",
     "text": [
      "5\n"
     ]
    }
   ],
   "source": [
    "arr1 = [1,2,4,5,6,3,7]\n",
    "arr2 = [2,4,1,3,7,6]\n",
    "print(finder3(arr1,arr2))"
   ]
  }
 ],
 "metadata": {
  "kernelspec": {
   "display_name": "base",
   "language": "python",
   "name": "python3"
  },
  "language_info": {
   "codemirror_mode": {
    "name": "ipython",
    "version": 3
   },
   "file_extension": ".py",
   "mimetype": "text/x-python",
   "name": "python",
   "nbconvert_exporter": "python",
   "pygments_lexer": "ipython3",
   "version": "3.10.10"
  },
  "orig_nbformat": 4
 },
 "nbformat": 4,
 "nbformat_minor": 2
}

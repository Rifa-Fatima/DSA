{
 "cells": [
  {
   "cell_type": "markdown",
   "metadata": {},
   "source": [
    "### Bubble Sort"
   ]
  },
  {
   "cell_type": "code",
   "execution_count": 1,
   "metadata": {},
   "outputs": [],
   "source": [
    "def bubbleSort(customList):\n",
    "    for i in range(len(customList)-1):\n",
    "        for j in range(len(customList)-i-1):\n",
    "            if customList[j] > customList[j+1]:\n",
    "                customList[j],customList[j+1] = customList[j+1],customList[j]\n",
    "    return customList"
   ]
  },
  {
   "cell_type": "code",
   "execution_count": 2,
   "metadata": {},
   "outputs": [
    {
     "data": {
      "text/plain": [
       "[2, 3, 4, 5, 5, 8, 23]"
      ]
     },
     "execution_count": 2,
     "metadata": {},
     "output_type": "execute_result"
    }
   ],
   "source": [
    "customList = [23,4,2,3,5,8,5]\n",
    "bubbleSort(customList)"
   ]
  },
  {
   "cell_type": "markdown",
   "metadata": {},
   "source": [
    "### Selection Sort"
   ]
  },
  {
   "cell_type": "code",
   "execution_count": 5,
   "metadata": {},
   "outputs": [],
   "source": [
    "def selectionSort(customList):\n",
    "    for i in range(len(customList)):\n",
    "        min_index = i\n",
    "        for j in range(i+1,len(customList)):\n",
    "            if customList[min_index] > customList[j]:\n",
    "                min_index = j\n",
    "        customList[i],customList[min_index] = customList[min_index],customList[i]\n",
    "    return customList"
   ]
  },
  {
   "cell_type": "code",
   "execution_count": 6,
   "metadata": {},
   "outputs": [
    {
     "data": {
      "text/plain": [
       "[2, 3, 4, 5, 5, 8, 23]"
      ]
     },
     "execution_count": 6,
     "metadata": {},
     "output_type": "execute_result"
    }
   ],
   "source": [
    "customList = [23,4,2,3,5,8,5]\n",
    "selectionSort(customList)"
   ]
  },
  {
   "cell_type": "markdown",
   "metadata": {},
   "source": [
    "### Insertion Sort"
   ]
  },
  {
   "cell_type": "code",
   "execution_count": 7,
   "metadata": {},
   "outputs": [],
   "source": [
    "def insertionSort(customList):\n",
    "    for i in range(1, len(customList)):\n",
    "        key = customList[i]\n",
    "        j = i-1\n",
    "        while j >= 0 and key < customList[j]:\n",
    "            customList[j+1] = customList[j]\n",
    "            j -=1\n",
    "        customList[j+1] = key\n",
    "    return customList"
   ]
  },
  {
   "cell_type": "code",
   "execution_count": 8,
   "metadata": {},
   "outputs": [
    {
     "data": {
      "text/plain": [
       "[2, 3, 4, 5, 5, 8, 23]"
      ]
     },
     "execution_count": 8,
     "metadata": {},
     "output_type": "execute_result"
    }
   ],
   "source": [
    "customList = [23,4,2,3,5,8,5]\n",
    "insertionSort(customList)"
   ]
  },
  {
   "cell_type": "markdown",
   "metadata": {},
   "source": [
    "### Bucket Sort"
   ]
  },
  {
   "cell_type": "code",
   "execution_count": 11,
   "metadata": {},
   "outputs": [],
   "source": [
    "import math\n",
    "def bucketSort(customList):\n",
    "    numberOfBuckets = round(math.sqrt(len(customList)))\n",
    "    max_value = max(customList)\n",
    "    arr = []\n",
    "    for i in range(numberOfBuckets):\n",
    "        arr.append([])\n",
    "    for j in customList:\n",
    "        index_b = math.ceil((j*numberOfBuckets)/max_value)\n",
    "        arr[index_b-1].append(j)\n",
    "    for i in range(numberOfBuckets):\n",
    "        arr[i] = insertionSort(arr[i])\n",
    "\n",
    "    k = 0\n",
    "    for i in range(numberOfBuckets):\n",
    "        for j in range(len(arr[i])):\n",
    "            customList[k] = arr[i][j]\n",
    "            k+=1\n",
    "    return customList"
   ]
  },
  {
   "cell_type": "code",
   "execution_count": 12,
   "metadata": {},
   "outputs": [
    {
     "data": {
      "text/plain": [
       "[2, 3, 4, 5, 5, 8, 23]"
      ]
     },
     "execution_count": 12,
     "metadata": {},
     "output_type": "execute_result"
    }
   ],
   "source": [
    "customList = [23,4,2,3,5,8,5]\n",
    "bucketSort(customList)"
   ]
  },
  {
   "cell_type": "markdown",
   "metadata": {},
   "source": [
    "### Merge Sort"
   ]
  },
  {
   "cell_type": "code",
   "execution_count": null,
   "metadata": {},
   "outputs": [],
   "source": []
  }
 ],
 "metadata": {
  "kernelspec": {
   "display_name": "base",
   "language": "python",
   "name": "python3"
  },
  "language_info": {
   "codemirror_mode": {
    "name": "ipython",
    "version": 3
   },
   "file_extension": ".py",
   "mimetype": "text/x-python",
   "name": "python",
   "nbconvert_exporter": "python",
   "pygments_lexer": "ipython3",
   "version": "3.10.10"
  },
  "orig_nbformat": 4
 },
 "nbformat": 4,
 "nbformat_minor": 2
}

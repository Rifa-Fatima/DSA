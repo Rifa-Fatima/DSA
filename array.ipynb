{
 "cells": [
  {
   "cell_type": "markdown",
   "metadata": {},
   "source": [
    "# Creating array"
   ]
  },
  {
   "cell_type": "code",
   "execution_count": 4,
   "metadata": {},
   "outputs": [
    {
     "name": "stdout",
     "output_type": "stream",
     "text": [
      "array('i')\n",
      "array('i', [1, 2, 3, 4])\n"
     ]
    }
   ],
   "source": [
    "import array\n",
    "\n",
    "my_array = array.array('i')           #i stand for integer\n",
    "print(my_array)\n",
    "my_array1 = array.array('i',[1,2,3,4])\n",
    "print(my_array1)"
   ]
  },
  {
   "cell_type": "code",
   "execution_count": 2,
   "metadata": {},
   "outputs": [
    {
     "name": "stdout",
     "output_type": "stream",
     "text": [
      "[]\n",
      "[1 2 3 4]\n"
     ]
    }
   ],
   "source": [
    "import numpy as np\n",
    "\n",
    "np_array = np.array([], dtype=int)         #empty array\n",
    "print(np_array)\n",
    "np_array1 = np.array([1,2,3,4])\n",
    "print(np_array1)"
   ]
  },
  {
   "cell_type": "markdown",
   "metadata": {},
   "source": [
    "# Insertion in array"
   ]
  },
  {
   "cell_type": "code",
   "execution_count": 9,
   "metadata": {},
   "outputs": [
    {
     "name": "stdout",
     "output_type": "stream",
     "text": [
      "array('i', [1, 2, 3, 4, 5])\n",
      "array('i', [1, 2, 3, 4, 5, 6])\n"
     ]
    }
   ],
   "source": [
    "import array\n",
    "\n",
    "my_array = array.array('i',[1,2,3,4,5])           \n",
    "print(my_array)\n",
    "my_array.insert(5,6)              #Here 5 is the index value\n",
    "print(my_array)"
   ]
  },
  {
   "cell_type": "markdown",
   "metadata": {},
   "source": [
    "# Array traversal"
   ]
  },
  {
   "cell_type": "code",
   "execution_count": 10,
   "metadata": {},
   "outputs": [
    {
     "name": "stdout",
     "output_type": "stream",
     "text": [
      "1\n",
      "2\n",
      "3\n",
      "4\n",
      "5\n",
      "6\n"
     ]
    }
   ],
   "source": [
    "def traverse_array(array):\n",
    "    for i in array:\n",
    "        print(i)\n",
    "\n",
    "traverse_array(my_array)"
   ]
  },
  {
   "cell_type": "markdown",
   "metadata": {},
   "source": [
    "# Access element in array"
   ]
  },
  {
   "cell_type": "code",
   "execution_count": 15,
   "metadata": {},
   "outputs": [
    {
     "name": "stdout",
     "output_type": "stream",
     "text": [
      "There is no such element in the array.\n"
     ]
    }
   ],
   "source": [
    "def accessElement(array,index):\n",
    "    if index >= len(array):\n",
    "        print(\"There is no such element in the array.\")\n",
    "    else:\n",
    "        print(array[index])\n",
    "    \n",
    "accessElement(my_array,6)"
   ]
  },
  {
   "cell_type": "markdown",
   "metadata": {},
   "source": [
    "# Searching for element in array"
   ]
  },
  {
   "cell_type": "code",
   "execution_count": 17,
   "metadata": {},
   "outputs": [
    {
     "data": {
      "text/plain": [
       "4"
      ]
     },
     "execution_count": 17,
     "metadata": {},
     "output_type": "execute_result"
    }
   ],
   "source": [
    "def linear_search(arr,target):\n",
    "    for i in range(len(arr)):\n",
    "        if arr[i] == target:\n",
    "            return i\n",
    "    return -1\n",
    "    \n",
    "linear_search(my_array,5)"
   ]
  },
  {
   "cell_type": "markdown",
   "metadata": {},
   "source": [
    "# Deleting element in array"
   ]
  },
  {
   "cell_type": "code",
   "execution_count": 18,
   "metadata": {},
   "outputs": [
    {
     "name": "stdout",
     "output_type": "stream",
     "text": [
      "array('i', [1, 2, 3, 4, 5])\n"
     ]
    }
   ],
   "source": [
    "my_array.remove(6)                        #worst case time cpmplexity O(n)\n",
    "print(my_array)                     "
   ]
  },
  {
   "cell_type": "markdown",
   "metadata": {},
   "source": [
    "# One dimension array practice\n"
   ]
  },
  {
   "cell_type": "code",
   "execution_count": 37,
   "metadata": {},
   "outputs": [
    {
     "name": "stdout",
     "output_type": "stream",
     "text": [
      "Step:1\n",
      "1\n",
      "2\n",
      "3\n",
      "4\n",
      "5\n",
      "Step:2\n",
      "5\n",
      "Step:3\n",
      "array('i', [1, 2, 3, 4, 5, 6])\n",
      "Step:4\n",
      "array('i', [1, 2, 3, 4, 5, 6, 7])\n",
      "Step:5\n",
      "array('i', [1, 2, 3, 4, 5, 6, 7, 10, 11, 12])\n",
      "Step:6\n",
      "array('i', [1, 2, 3, 4, 5, 6, 7, 10, 11, 12, 20, 21, 22])\n",
      "Step:7\n",
      "array('i', [1, 2, 3, 4, 5, 7, 10, 11, 12, 20, 21, 22])\n",
      "Step:8\n",
      "array('i', [1, 2, 3, 4, 5, 7, 10, 11, 12, 20, 21])\n",
      "Step:9\n",
      "9\n",
      "Step:10\n",
      "array('i', [21, 20, 12, 11, 10, 7, 5, 4, 3, 2, 1])\n",
      "Step:11\n",
      "(2408572231280, 11)\n",
      "Step:12\n",
      "1\n",
      "Step:13\n",
      "[21, 20, 12, 11, 10, 7, 5, 4, 3, 2, 1]\n",
      "Step:14\n",
      "array('i', [20, 12, 11])\n"
     ]
    }
   ],
   "source": [
    "from array import *\n",
    "\n",
    "# 1.Create an array and traverse.\n",
    "\n",
    "print('Step:1')\n",
    "my_array = array('i',[1,2,3,4,5])\n",
    "for i in my_array:\n",
    "    print(i)\n",
    "\n",
    "# 2.Access individual element through indexes.\n",
    "\n",
    "print('Step:2')\n",
    "print(my_array[4])\n",
    "\n",
    "# 3.Append any value to the array using append() method.\n",
    "\n",
    "print('Step:3')\n",
    "my_array.append(6)\n",
    "print(my_array)\n",
    "\n",
    "# 4.Insert value in array using insert() method.\n",
    "\n",
    "print('Step:4')\n",
    "my_array.insert(6,7)\n",
    "print(my_array)\n",
    "\n",
    "# 5.Extend python array using extend() method.\n",
    "\n",
    "print('Step:5')\n",
    "my_array2 = array('i',[10,11,12])\n",
    "my_array.extend(my_array2)\n",
    "print(my_array)\n",
    "\n",
    "# 6.Add items from list into array using fromlist() method.\n",
    "\n",
    "print('Step:6')\n",
    "templist = [20,21,22]\n",
    "my_array.fromlist(templist)\n",
    "print(my_array)\n",
    "\n",
    "# 7.Remove any array element using remove() method.\n",
    "\n",
    "print('Step:7')\n",
    "my_array.remove(6)\n",
    "print(my_array)\n",
    "\n",
    "# 8.Remove last array element using pop() method.\n",
    "\n",
    "print('Step:8')\n",
    "my_array.pop()\n",
    "print(my_array)\n",
    "\n",
    "# 9.Fetch any element through its index using index() method.\n",
    "\n",
    "print('Step:9')\n",
    "print(my_array.index(20))\n",
    "\n",
    "# 10.Reverse the python array using reverse() method.\n",
    "\n",
    "print('Step:10')\n",
    "my_array.reverse()\n",
    "print(my_array)\n",
    "\n",
    "# 11.Get array buffer information using buffer_info() method.\n",
    "\n",
    "print('Step:11')\n",
    "print(my_array.buffer_info())\n",
    "\n",
    "# 12.Check for number of occurence using count() method.\n",
    "\n",
    "print('Step:12')\n",
    "print(my_array.count(3))\n",
    "\n",
    "# 13.Convert array to list using tolist() method.\n",
    "\n",
    "print('Step:13')\n",
    "print(my_array.tolist())\n",
    "\n",
    "# 14.Slice element from array.\n",
    "\n",
    "print('Step:14')\n",
    "print(my_array[1:4])"
   ]
  },
  {
   "cell_type": "markdown",
   "metadata": {},
   "source": [
    "# Two dimensional array"
   ]
  },
  {
   "cell_type": "markdown",
   "metadata": {},
   "source": [
    "## Insertion in two dimensional array"
   ]
  },
  {
   "cell_type": "code",
   "execution_count": 45,
   "metadata": {},
   "outputs": [
    {
     "name": "stdout",
     "output_type": "stream",
     "text": [
      "[[11 15 10  6]\n",
      " [10 14 11  5]\n",
      " [12 17 12  8]\n",
      " [15 18 14  9]]\n",
      "[[ 1  2  3  4]\n",
      " [11 15 10  6]\n",
      " [10 14 11  5]\n",
      " [12 17 12  8]\n",
      " [15 18 14  9]]\n",
      "[[11 15 10  6]\n",
      " [10 14 11  5]\n",
      " [12 17 12  8]\n",
      " [15 18 14  9]\n",
      " [ 5  6  7  8]]\n"
     ]
    }
   ],
   "source": [
    "import numpy as np\n",
    "\n",
    "twoDArray = np.array([[11,15,10,6],[10,14,11,5],[12,17,12,8],[15,18,14,9]])\n",
    "print(twoDArray)\n",
    "newtwoDArray = np.insert(twoDArray,0,[[1,2,3,4]],axis=0)            #axis=0 for adding as row & axis=1 for adding as coloumn\n",
    "print(newtwoDArray)\n",
    "newtwoDArray = np.append(twoDArray,[[5,6,7,8]],axis=0)            \n",
    "print(newtwoDArray)"
   ]
  },
  {
   "cell_type": "markdown",
   "metadata": {},
   "source": [
    "## Access element in 2D array"
   ]
  },
  {
   "cell_type": "code",
   "execution_count": 47,
   "metadata": {},
   "outputs": [
    {
     "name": "stdout",
     "output_type": "stream",
     "text": [
      "10\n"
     ]
    }
   ],
   "source": [
    "def accessElement(array,rowindex,colindex):\n",
    "    if rowindex >= len(array) or colindex >= len(array[0]):\n",
    "        print(\"Incorrect Index.\")\n",
    "    else:\n",
    "        print(array[rowindex][colindex])\n",
    "\n",
    "accessElement(twoDArray,0,2)"
   ]
  },
  {
   "cell_type": "markdown",
   "metadata": {},
   "source": [
    "## Traversing in 2D array"
   ]
  },
  {
   "cell_type": "code",
   "execution_count": 49,
   "metadata": {},
   "outputs": [
    {
     "name": "stdout",
     "output_type": "stream",
     "text": [
      "11\n",
      "15\n",
      "10\n",
      "6\n",
      "10\n",
      "14\n",
      "11\n",
      "5\n",
      "12\n",
      "17\n",
      "12\n",
      "8\n",
      "15\n",
      "18\n",
      "14\n",
      "9\n"
     ]
    }
   ],
   "source": [
    "def traverseTDArray(array):\n",
    "    for i in range(len(array)):\n",
    "        for j in range(len(array[0])):\n",
    "            print(array[i][j])\n",
    "\n",
    "traverseTDArray(twoDArray)"
   ]
  },
  {
   "cell_type": "markdown",
   "metadata": {},
   "source": [
    "## Searching in 2D array"
   ]
  },
  {
   "cell_type": "code",
   "execution_count": 55,
   "metadata": {},
   "outputs": [
    {
     "data": {
      "text/plain": [
       "'The value is located at index 2,0'"
      ]
     },
     "execution_count": 55,
     "metadata": {},
     "output_type": "execute_result"
    }
   ],
   "source": [
    "def searchTDArray(array,value):\n",
    "    for i in range(len(array)):\n",
    "        for j in range(len(array[0])):\n",
    "            if array[i][j]==value:\n",
    "                return 'The value is located at index '+str(i)+','+str(j)\n",
    "    return 'The element is not found.'\n",
    "\n",
    "searchTDArray(twoDArray,12)\n",
    "    "
   ]
  },
  {
   "cell_type": "markdown",
   "metadata": {},
   "source": [
    "## Deleting a row or column in 2D array"
   ]
  },
  {
   "cell_type": "code",
   "execution_count": 56,
   "metadata": {},
   "outputs": [
    {
     "name": "stdout",
     "output_type": "stream",
     "text": [
      "[[10 14 11  5]\n",
      " [12 17 12  8]\n",
      " [15 18 14  9]]\n"
     ]
    }
   ],
   "source": [
    "newTDArray = np.delete(twoDArray,0,axis=0)           #delete() method will store new 2D array so time & space complexity will be O(mn)\n",
    "print(newTDArray)"
   ]
  },
  {
   "cell_type": "code",
   "execution_count": null,
   "metadata": {},
   "outputs": [],
   "source": []
  }
 ],
 "metadata": {
  "kernelspec": {
   "display_name": "base",
   "language": "python",
   "name": "python3"
  },
  "language_info": {
   "codemirror_mode": {
    "name": "ipython",
    "version": 3
   },
   "file_extension": ".py",
   "mimetype": "text/x-python",
   "name": "python",
   "nbconvert_exporter": "python",
   "pygments_lexer": "ipython3",
   "version": "3.10.10"
  },
  "orig_nbformat": 4
 },
 "nbformat": 4,
 "nbformat_minor": 2
}
